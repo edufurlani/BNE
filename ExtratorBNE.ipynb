{
 "cells": [
  {
   "cell_type": "code",
   "execution_count": 118,
   "metadata": {},
   "outputs": [],
   "source": [
    "from selenium import webdriver \n",
    "import pandas as pd\n",
    "from selenium.webdriver.common.keys import Keys\n",
    "from time import sleep \n",
    "\n",
    "class ExtratorBNE:\n",
    "    \n",
    "    def __init__(self,caminho):\n",
    "        self.driver = webdriver.Chrome(caminho)\n",
    "        self.driver.get(\"https://www.bne.com.br/vagas-de-emprego-para-vendedor/?Page=1&Function=vendedor&Area=Com%C3%A9rcio&Sort=0\")\n",
    "        self.lista_local = []\n",
    "        self.lista_salario = []\n",
    "        self.lista_empresa = []\n",
    "        self.lista_forma = []\n",
    "        self.lista_candidatura = []\n",
    "        self.INTERVALO_ENTRE_PÁGINAS = 1\n",
    "        \n",
    "    def extrair_infos_paginas(self):\n",
    "        for x in range(1,6):\n",
    "            xpath_clique = f'//*[@id=\"pagination\"]/ul/li[{x}]'\n",
    "            clique = self.driver.find_element_by_xpath(xpath_clique)\n",
    "            sleep(self.INTERVALO_ENTRE_PÁGINAS)\n",
    "            clique.click()\n",
    "            \n",
    "            for z in range(1,4):\n",
    "                xpath_local = f'/html/body/div[5]/section/div[3]/div[{z}]/div[1]/dl[1]/dd'\n",
    "                local = self.driver.find_element_by_xpath(xpath_local)\n",
    "                self.lista_local.append(local.text)\n",
    "                xpath_salario = f'/html/body/div[5]/section/div[3]/div[{z}]/div[1]/dl[2]/dd'\n",
    "                salario = self.driver.find_element_by_xpath(xpath_salario)\n",
    "                self.lista_salario.append(salario.text)\n",
    "                xpath_empresa = f'/html/body/div[5]/section/div[3]/div[{z}]/div[1]/dl[3]/dd'\n",
    "                empresa = self.driver.find_element_by_xpath(xpath_empresa)\n",
    "                self.lista_empresa.append(empresa.text)\n",
    "                try:\n",
    "                    xpath_home_office = f'/html/body/div[5]/section/div[3]/div[{z}]/div[2]/h4[3]/span'\n",
    "                    home_office = self.driver.find_element_by_xpath(xpath_home_office)\n",
    "                    self.lista_forma.append(home_office.text)\n",
    "                except:\n",
    "                    self.lista_forma.append('Trabalho Presencial')\n",
    "                try:\n",
    "                    xpath_candidatura_livre = f'//*[@id=\"job-3206490\"]/div[2]/h[{z}]'\n",
    "                    candidatura_livre = self.driver.find_element_by_xpath(xpath_candidatura_livre)\n",
    "                    self.lista_candidatura.append(candidatura_livre.text)\n",
    "                except:\n",
    "                    self.lista_candidatura.append('Candidatura Paga')\n",
    "                 \n",
    "            for k in range(5,8):\n",
    "\n",
    "                xpath_local2 = f'/html/body/div[5]/section/div[3]/div[{k}]/div[1]/dl[1]/dd'\n",
    "                local2 = self.driver.find_element_by_xpath(xpath_local2)\n",
    "                self.lista_local.append(local2.text)\n",
    "                xpath_salario2 = f'/html/body/div[5]/section/div[3]/div[{k}]/div[1]/dl[2]/dd'\n",
    "                salario2 = self.driver.find_element_by_xpath(xpath_salario2)\n",
    "                self.lista_salario.append(salario2.text)\n",
    "                xpath_empresa2 = f'/html/body/div[5]/section/div[3]/div[{k}]/div[1]/dl[3]/dd'\n",
    "                empresa2 = self.driver.find_element_by_xpath(xpath_empresa2)\n",
    "                self.lista_empresa.append(empresa2.text)\n",
    "                try:\n",
    "                    xpath_home_office = f'/html/body/div[5]/section/div[3]/div[{k}]/div[2]/h4[3]/span'\n",
    "                    home_office = self.driver.find_element_by_xpath(xpath_home_office)\n",
    "                    self.lista_forma.append(home_office.text)\n",
    "                except:\n",
    "                    self.lista_forma.append('Trabalho Presencial')\n",
    "                try:\n",
    "                    xpath_candidatura_livre = f'/html/body/div[5]/section/div[3]/div[2]/div[2]/h3'\n",
    "                    candidatura_livre = self.driver.find_element_by_xpath(xpath_candidatura_livre)\n",
    "                    self.lista_candidatura.append(candidatura_livre.text)\n",
    "                except:\n",
    "                    self.lista_candidatura.append('Candidatura Paga')\n",
    "           \n",
    "            \n",
    "\n",
    "            \n",
    "            \n",
    "            "
   ]
  },
  {
   "cell_type": "code",
   "execution_count": 120,
   "metadata": {},
   "outputs": [],
   "source": [
    "bne = ExtratorBNE('chromedriver')"
   ]
  },
  {
   "cell_type": "code",
   "execution_count": 121,
   "metadata": {},
   "outputs": [],
   "source": [
    "bne.extrair_infos_paginas()"
   ]
  },
  {
   "cell_type": "code",
   "execution_count": 122,
   "metadata": {},
   "outputs": [
    {
     "data": {
      "text/plain": [
       "['Candidatura Paga',\n",
       " 'Candidatura Paga',\n",
       " 'Candidatura Paga',\n",
       " 'Candidatura Paga',\n",
       " 'Candidatura Paga',\n",
       " 'Candidatura Paga',\n",
       " 'Candidatura Paga',\n",
       " 'Candidatura Paga',\n",
       " 'Candidatura Paga',\n",
       " 'Candidatura Paga',\n",
       " 'Candidatura Paga',\n",
       " 'Candidatura Paga',\n",
       " 'Candidatura Paga',\n",
       " 'Candidatura Paga',\n",
       " 'Candidatura Paga',\n",
       " 'Candidatura Livre',\n",
       " 'Candidatura Livre',\n",
       " 'Candidatura Livre',\n",
       " 'Candidatura Paga',\n",
       " 'Candidatura Paga',\n",
       " 'Candidatura Paga',\n",
       " 'Candidatura Paga',\n",
       " 'Candidatura Paga',\n",
       " 'Candidatura Paga',\n",
       " 'Candidatura Paga',\n",
       " 'Candidatura Paga',\n",
       " 'Candidatura Paga',\n",
       " 'Candidatura Paga',\n",
       " 'Candidatura Paga',\n",
       " 'Candidatura Paga']"
      ]
     },
     "execution_count": 122,
     "metadata": {},
     "output_type": "execute_result"
    }
   ],
   "source": [
    "bne.lista_candidatura"
   ]
  },
  {
   "cell_type": "code",
   "execution_count": null,
   "metadata": {},
   "outputs": [],
   "source": [
    "//*[@id=\"job-3207737\"]/div[2]/h3"
   ]
  }
 ],
 "metadata": {
  "kernelspec": {
   "display_name": "Python 3",
   "language": "python",
   "name": "python3"
  },
  "language_info": {
   "codemirror_mode": {
    "name": "ipython",
    "version": 3
   },
   "file_extension": ".py",
   "mimetype": "text/x-python",
   "name": "python",
   "nbconvert_exporter": "python",
   "pygments_lexer": "ipython3",
   "version": "3.8.5"
  }
 },
 "nbformat": 4,
 "nbformat_minor": 4
}
